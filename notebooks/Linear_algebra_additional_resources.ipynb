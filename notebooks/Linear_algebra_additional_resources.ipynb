{
 "cells": [
  {
   "cell_type": "markdown",
   "metadata": {},
   "source": [
    "## Basic algebra\n",
    "- Khan academy\n",
    "- 3Blue1Brown \n",
    "\n",
    "## LA\n",
    "- 3Blue1browm\n",
    "- Deep learning (Goodfellow et al)Ch2 \n",
    "- Mathematics for Machine Learning (Deisenroth et al) Ch2\n",
    "- Linear Algebra Done Right (Sheldon Axler) 2015"
   ]
  },
  {
   "cell_type": "code",
   "execution_count": null,
   "metadata": {},
   "outputs": [],
   "source": []
  }
 ],
 "metadata": {
  "kernelspec": {
   "display_name": "Python 3",
   "language": "python",
   "name": "python3"
  },
  "language_info": {
   "codemirror_mode": {
    "name": "ipython",
    "version": 3
   },
   "file_extension": ".py",
   "mimetype": "text/x-python",
   "name": "python",
   "nbconvert_exporter": "python",
   "pygments_lexer": "ipython3",
   "version": "3.7.3"
  }
 },
 "nbformat": 4,
 "nbformat_minor": 2
}
